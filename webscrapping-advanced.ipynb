{
 "cells": [
  {
   "cell_type": "code",
   "execution_count": 51,
   "metadata": {},
   "outputs": [],
   "source": [
    "# Importing required libraries\n",
    "\n",
    "import time\n",
    "\n",
    "from bs4 import BeautifulSoup\n",
    "from selenium import webdriver\n",
    "\n",
    "from pymongo import MongoClient"
   ]
  },
  {
   "cell_type": "code",
   "execution_count": 52,
   "metadata": {},
   "outputs": [],
   "source": [
    "# Creating a connection to MongoDB\n",
    "client = MongoClient('localhost', 27017)\n",
    "db = client['news']\n",
    "collection = db['elespectador']"
   ]
  },
  {
   "cell_type": "code",
   "execution_count": 53,
   "metadata": {},
   "outputs": [],
   "source": [
    "# Base URL of the site to be analyzed\n",
    "SITE_URL = 'https://www.elespectador.com'"
   ]
  },
  {
   "cell_type": "code",
   "execution_count": 54,
   "metadata": {},
   "outputs": [],
   "source": [
    "# Firefox web driver path\n",
    "# Download the driver for you S.O. here: https://github.com/mozilla/geckodriver/releases\n",
    "DRIVER_PATH = './geckodriver'"
   ]
  },
  {
   "cell_type": "code",
   "execution_count": 55,
   "metadata": {},
   "outputs": [
    {
     "name": "stderr",
     "output_type": "stream",
     "text": [
      "C:\\Users\\Santi\\AppData\\Local\\Temp/ipykernel_8496/1910320475.py:2: DeprecationWarning: executable_path has been deprecated, please pass in a Service object\n",
      "  browser = webdriver.Firefox(executable_path = DRIVER_PATH)\n"
     ]
    }
   ],
   "source": [
    "# Creating a new firefox window\n",
    "browser = webdriver.Firefox(executable_path = DRIVER_PATH)"
   ]
  },
  {
   "cell_type": "code",
   "execution_count": 56,
   "metadata": {},
   "outputs": [],
   "source": [
    "def make_request(browser, relative_path):\n",
    "    # Making the request and rendering the browser\n",
    "    browser.get(SITE_URL + relative_path)\n",
    "    \n",
    "    # Simulating vertical scrolling for handling lazy load\n",
    "    check_height = browser.execute_script('return document.body.scrollHeight;')\n",
    "    while True:\n",
    "        browser.execute_script('window.scrollTo(0, document.body.scrollHeight);')\n",
    "        time.sleep(3)\n",
    "        height = browser.execute_script('return document.body.scrollHeight;')\n",
    "        if height == check_height: \n",
    "            break \n",
    "        check_height = height\n",
    "    \n",
    "    # Getting HTML content and passing it to BeautifulSoup for scraping analysis\n",
    "    return BeautifulSoup(browser.page_source, 'html.parser')"
   ]
  },
  {
   "cell_type": "code",
   "execution_count": 57,
   "metadata": {},
   "outputs": [],
   "source": [
    "# Getting HTML content for news listing page\n",
    "soup = make_request(browser, '/archivo/politica/2')"
   ]
  },
  {
   "cell_type": "code",
   "execution_count": 58,
   "metadata": {},
   "outputs": [],
   "source": [
    "# Finding the section where news are contained \n",
    "layout = soup.find(class_ = 'Layout-flexAds')"
   ]
  },
  {
   "cell_type": "code",
   "execution_count": 59,
   "metadata": {},
   "outputs": [
    {
     "name": "stdout",
     "output_type": "stream",
     "text": [
      "2\n"
     ]
    }
   ],
   "source": [
    "# Getting blocks from layout\n",
    "blocks = layout.find('section').find_all(recursive = False)\n",
    "print(len(blocks)) # 3 blocks founded, 2 for news and 1 for pagintion"
   ]
  },
  {
   "cell_type": "code",
   "execution_count": 60,
   "metadata": {},
   "outputs": [
    {
     "data": {
      "text/plain": [
       "6"
      ]
     },
     "execution_count": 60,
     "metadata": {},
     "output_type": "execute_result"
    }
   ],
   "source": [
    "# Finding and concatenating news cards\n",
    "cards = blocks[0].find_all(class_ = 'Card') + blocks[1].find_all(class_ = 'Card')\n",
    "len(cards)"
   ]
  },
  {
   "cell_type": "code",
   "execution_count": 61,
   "metadata": {},
   "outputs": [],
   "source": [
    "# Building a list with title and relative path of the news founded\n",
    "\n",
    "news = []\n",
    "\n",
    "for card in cards:\n",
    "    news.append({\n",
    "        'title': card.find('h2', class_ = 'Card-Title').find('a').get_text(),\n",
    "        'relative_path': card.find('h2', class_ = 'Card-Title').find('a')['href']\n",
    "    })"
   ]
  },
  {
   "cell_type": "code",
   "execution_count": 62,
   "metadata": {},
   "outputs": [
    {
     "data": {
      "text/plain": [
       "[{'title': 'Corte Constitucional, último intento para evitar cambios a la Ley de Garantías',\n",
       "  'relative_path': '/politica/corte-constitucional-ultima-instancia-para-evitar-cambios-a-la-ley-de-garantias/'},\n",
       " {'title': '“No vamos a reconocerlo”: Duque cerró puertas a restaurar relaciones con Maduro',\n",
       "  'relative_path': '/politica/no-vamos-a-reconocerlo-duque-cerro-puertas-a-restaurar-relaciones-con-maduro/'},\n",
       " {'title': 'Doblemente desaparecido: 35 años buscando al líder estudiantil José Mejía',\n",
       "  'relative_path': '/politica/doblemente-desaparecido-35-anos-buscando-al-lider-estudiantil-jose-mejia/'},\n",
       " {'title': '“Sería injusto que se me tilde por el pasado del partido”: Caterine Ibargüen',\n",
       "  'relative_path': '/politica/seria-injusto-que-se-me-tilde-por-el-pasado-del-partido-caterine-ibarguen/'},\n",
       " {'title': 'Senado aprobó proposición para restablecer relaciones con Venezuela ',\n",
       "  'relative_path': '/politica/senado-aprobo-proposicion-para-restablecer-relaciones-con-venezuela/'},\n",
       " {'title': '“Mi intención no fue agredir”: Cabal sobre su crítica al liderazgo de su bancada',\n",
       "  'relative_path': '/politica/mi-intencion-no-fue-agredir-cabal-sobre-su-critica-al-liderazgo-de-su-bancada/'}]"
      ]
     },
     "execution_count": 62,
     "metadata": {},
     "output_type": "execute_result"
    }
   ],
   "source": [
    "news"
   ]
  },
  {
   "cell_type": "code",
   "execution_count": 63,
   "metadata": {},
   "outputs": [],
   "source": [
    "for n in news:\n",
    "    # Getting HTML content for news page\n",
    "    soup = make_request(browser, n['relative_path'])\n",
    "    \n",
    "    # Extracting news metadata\n",
    "    n['datetime'] = soup.find(class_ = 'ArticleHeader-Date').get_text()\n",
    "    n['author'] = soup.find(class_ = 'ACredit-Author').get_text()\n",
    "    n['summary'] = soup.find(class_ = 'ArticleHeader-Hook').get_text()\n",
    "    \n",
    "    # Extracting and concatenating news full text\n",
    "    paragraphs = soup.find_all(class_ = 'font--secondary')\n",
    "    n['full_text'] = ' '.join([p.get_text() for p in paragraphs])"
   ]
  },
  {
   "cell_type": "code",
   "execution_count": 64,
   "metadata": {},
   "outputs": [
    {
     "data": {
      "text/plain": [
       "[{'title': 'Corte Constitucional, último intento para evitar cambios a la Ley de Garantías',\n",
       "  'relative_path': '/politica/corte-constitucional-ultima-instancia-para-evitar-cambios-a-la-ley-de-garantias/',\n",
       "  'datetime': '21 Oct 2021  - 8:13 a.\\xa0m.',\n",
       "  'author': 'Redacción Política',\n",
       "  'summary': 'Desde la Misión de Observación Electoral hasta congresistas de diferentes corrientes políticas pidieron al alto tribunal revisar la modificación que fue aprobada esta semana por Senado y Cámara. Los cambios, según dicen, abren la puerta a que se usen recursos públicos para favorecer campañas políticas en las elecciones de 2022.',\n",
       "  'full_text': 'La modificación a la Ley de Garantías, aprobada esta semana en el Congreso en medio de la discusión del presupuesto de 2022, generó bastante controversia entre diferentes sectores. Como advirtieron muchas voces antes de que se realizara el debate, avalar las modificaciones iba a tener un mayor impacto en el tema electoral que en el objetivo de ese cambio: acelerar la reactivación económica que, en el caso de algunas regiones, está soportado en las obras de infraestructura que quedaron detenidas por el confinamiento o que ni siquiera se alcanzaron a poner en marcha. >Lea más sobre el Congreso y otras noticias de la política nacional Pero las alertas no solo provienen de quienes votaron no a la modificación del artículo 38 de la Ley de Garantías, que prohibía expresamente la celebración de convenios interadministrativos cuatro meses antes de las elecciones. La Misión de Observación Electoral (MOE) se pronunció al respecto y subrayó que dicha medida tenía como propósito evitar un uso electoral de esos recursos con el fin de beneficiar a determinados candidatos o partidos políticos. Por tanto la modificación, para la MOE, abre la posibilidad de que haya “riesgos de corrupción administrativa”. El temor del organismo es que se usen recursos públicos para fortalecer el proselitismo en las elecciones del próximo año. Además de eso, al ser una ley estatutaria y englobar temas de transparencia y equilibrio electoral, para la MOE no puede modificarse mediante una ley ordinaria, así que solicitó que los cambios sean revisados por la Corte Constitucional. A ese argumento se ciñeron los congresistas que anunciaron demandas ante el alto tribunal. >LEA: Oposición rechaza suspensión de ley de garantías durante elecciones de 2022 “Es indispensable que la modificación sea analizada por el alto tribunal previo a su vigencia, pues es necesario generar un control ante una medida como la adoptada, y a su vez garantizar que la actuación de los distintos poderes se dé en el marco de la Constitución”, aseguró Alejandra Barrios, directora de la MOE. Por su parte, para Marlon Pabón, coordinador de Administración Pública y Transparencia de la entidad, “resulta totalmente inconveniente y peligroso para la democracia que se modifiquen las reglas de transparencia”, teniendo en cuenta que el clientelismo y la corrupción son dos de los grandes problemas de los comicios en el país. Además de la MOE, congresistas de diversas tendencias políticas coincidieron en que es inconstitucional modificar una ley estatutaria a través de una norma de inferior categoría y anticiparon demandas ante la Corte Constitucional. El senador Rodrigo Lara (Cambio Radical) aseguró que lo aprobado por el Congreso “abre todas las compuertas de la corrupción electoral en estas elecciones y lo hacen con el único fin de favorecer e impulsar a sus candidatos presidenciales”. El también precandidato presidencial por el Nuevo Liberalismo anunció que presentará demanda en la corte constitucional apenas la modificación sea sancionada por el presidente Iván Duque. >LEA: Análisis: Modificar la Ley de Garantías es una mala idea “El gobierno lamentablemente será recordado en la historia por este hito infame, porque además lo hizo de manera abiertamente ilegal a través de una norma de inferior categoría, que es el presupuesto, suspende una de superior categoría que es una ley estatutaria”, agregó Lara. Entre tanto, Roy Barreras (Pacto Histórico) indicó que su demanda la presentará porque lo aprobado “viola la unidad de materia y contradice varias sentencias de la Corte que ordenan no incluir asuntos ajenos a la ley de presupuesto”. Armando Benedetti, también hoy en el Pacto Histórico, tildó el cambio a la Ley de Garantías como una “legalización de la compra de votos desde las alcaldías y las gobernaciones” y le solicitó a la Corte Constitucional realizar un “control previo de constitucionalidad” al proyecto de presupuesto aprobado esta semana. Y para el líder de dicha colectividad, Gustavo Petro, “cualquier aplicación del levantamiento de la ley de garantías sería ilegal. Al ser una norma estatutaria debe ir a control previo de la Corte Constitucional, si lo aplican sin este tramite, los funcionarios estarán prevaricando”. El senador Iván Cepeda (Polo) fue otro de los que manifestó su inconformismo con la modificación de la ley, hecha bajo ”el pretexto” de acelerar la reactivación económica del país. “Las rapaces mayorías gobiernistas suspendieron la ley que evita que la contratación estatal sea botín en época electoral. Esa decisión es ilegal e inconstitucional y por eso anuncio que la demandaremos ante la Corte Constitucional”, indicó Cepeda, mientras que su copartidario en la Cámara, Germán Navas Talero, coincidió con Petro en que habría un delito de prevaricato y, como sus colegas, recalcó que no se puede derogar una ley estatutaria con una ordinaria. El tema es de tal relevancia que incluso Luis Fernando Mejía, director de Fedesarrollo, opinó sobre la modificación aseverando que “permitirá que el Gobierno asigne discrecionalmente recursos del presupuesto a gobernadores y alcaldes durante el proceso electoral. No parece una buena señal. Ojalá la Corte Constitucional haga rápidamente un control previo del artículo”. En días anteriores, Bruce Mac Master, presidente de la Andi, también dijo que no era conveniente hacer cambios a la ley en plena campaña electoral y alertó que “hay grandes dudas sobre la pertinencia de hacerlo a través del mecanismo escogido”.'},\n",
       " {'title': '“No vamos a reconocerlo”: Duque cerró puertas a restaurar relaciones con Maduro',\n",
       "  'relative_path': '/politica/no-vamos-a-reconocerlo-duque-cerro-puertas-a-restaurar-relaciones-con-maduro/',\n",
       "  'datetime': '20 Oct 2021  - 10:23 p.\\xa0m.',\n",
       "  'author': 'Redacción Política',\n",
       "  'summary': 'Sobre la iniciativa que adelanta el Senado, para crear dos comisiones es que promuevan el restablecimiento de las relaciones diplomáticas y comerciales, el presidente Duque aclaró que las relaciones internacionales las maneja el Ejecutivo y no el Legislativo. Aseguró que, mientras sea presidente, no reconocerá una “dictadura oprobiosa, corrupta y narcotraficante”.',\n",
       "  'full_text': 'El presidente Iván Duque se reunió este miércoles con el secretario de Estado de EE.UU., Antony Blinken, en el marco de su visita oficial a Colombia y Ecuador. El encuentro tuvo varios ejes: la lucha contra la pandemia, la implementación del Acuerdo de Paz, la transición energética y el apoyo de EE. UU. en esos temas. Sin embargo, la crisis migratoria, la situación de Venezuela y las relaciones con el vecino país también fueron problemáticas que tuvieron un amplio espacio durante el encuentro. >Lea más sobre la agenda presidencial y otras noticias de la política nacional El mandatario colombiano se refirió a la iniciativa del Senado, que el martes aprobó por unanimidad una proposición de los congresistas Jorge Guevara y Yesid López, ambos de Alianza Verde, con el fin de buscar un acercamiento diplomático y comercial con Venezuela y así restaurar las relaciones entre ambos países. La propuesta de los senadores verdes es crear dos comisiones, una en el Senado colombiano y otra en el Parlamento venezolano, que promuevan el restablecimiento de las relaciones bilaterales. Incluso desde el legislativo venezolano la proposición fue vista con buenos ojos por el presidente del Parlamento, Jorge Rodríguez, quien se mostro en “plena disposición” para dar proseguir el proceso. No obstante, y aunque apenas es una propuesta, desde el Gobierno se cerró la puerta a esa idea. En el encuentro con Blinken, y hablando de tema Venezuela, el presidente Duque reiteró que no reconocerá el gobierno de Nicolás Maduro y que hacerlo sería “una claudicación en los valores que ha defendido históricamente nuestro país”. >LEA: “Mi intención no fue agredir”: Cabal sobre su crítica al liderazgo de su bancada “Una cosa en la que no nos podemos equivocar es en que lo que Colombia no va a hacer: reconocer una dictadura oprobiosa, corrupta, narcotraficante. Mientras yo sea el presidente de Colombia y en defensa de la carta democrática y los valores que hemos construido con muchos países, además soportados por una denuncia contra el dictador ante la Corte Penal Internacional, no vamos a reconocerlo”, expresó Duque en su declaración junto a Blinken. El presidente colombiano fue claro en señalar que las relaciones internacionales las maneja el Ejecutivo y no el Legislativo y, reiteró que bajo su gobierno no habrá ningún tipo de acercamientos con el Gobierno de Maduro. Duque también recordó que si bien fue el propio Maduro quien rompió las relaciones bilaterales en febrero de 2019, los vínculos entre ambos países ya pendían de un hilo desde el gobierno del expresidente Juan Manuel Santos, quien en su momento anunció que no reconocería su triunfo en las elecciones de 2018. >LEA: “Algunos quieren sacar provecho de la visita de Blinken”: Duque a Vivanco “Es importante tener en cuenta que cuando empezó nuestro Gobierno llevábamos dos años o casi dos años sin embajador en Caracas y también el Gobierno que me antecedió había declarado públicamente que no reconocería los resultados de las elecciones fraudulentas con las cuales el dictador pensaba perpetuarse en el poder”, dijo Duque, quien aseveró que el gobierno que reconoce en Venezuela es el interino que lidera el opositor Juan Guaidó y destacó que Estados Unidos y otros 50 países hacen lo propio. Por otro lado, la visita de Blinken tuvo como propósito la instalación de la Conferencia Ministerial sobre Migración en Bogotá. Allí, Duque propuso realizar un censo para saber cuántos migrantes hay en los países americanos pues dijo que es clave contar con la información necesaria para generar políticas públicas precisas. Además instó a los organismos internacionales a hacer una “intervención estructural de Haití” que genere “esperanzas e ingresos”. Y en referencia a Venezuela, Duque fue enfático en señalar que a pesar de las diferencias con el gobierno de Venezuela, a Colombia no le ha faltado solidaridad con los ciudadanos venezolanos. De acuerdo con cifras que expuso el presidente, Colombia ha recibido a más de 1,8 millones de venezolanos que han huido de la crisis en su país y en este momento son el 4 % de la población del país.'},\n",
       " {'title': 'Doblemente desaparecido: 35 años buscando al líder estudiantil José Mejía',\n",
       "  'relative_path': '/politica/doblemente-desaparecido-35-anos-buscando-al-lider-estudiantil-jose-mejia/',\n",
       "  'datetime': '20 Oct 2021  - 9:00 p.\\xa0m.',\n",
       "  'author': 'Laura Angélica  Ospina',\n",
       "  'summary': 'Durante los dos primeros años de su desaparición, Iván Darío Mejía Toro se dedicó exclusivamente a buscar a su hermano mellizo. La misión no ha parado, pero ahora su trabajo está volcado, también, a reivindicar su nombre y que no sea borrado de la historia.',\n",
       "  'full_text': 'Iván Darío Mejía Toro alza los papeles que tiene en la mano y empieza a leer: “La noche y la niebla o la estación de la verdad. Un hombre solitario en la estación espera la llegada del tren. Es la estación de la espera. No ve a lo lejos la estela de humo, su silbido no escucha. Sigue esperando. ¿Tendrá, acaso, la posibilidad de abordar el tren en el cual encontrará la respuesta tantos años anhelada? ¿El tren nunca llegara, o sí? ¿La estación de la verdad no existe, o sí?”. Aunque ha contado muchas veces esta historia, fue la primera vez que la compartió ante la Comisión de la Verdad. Dio su testimonio en el encuentro que la entidad organizó para dar a conocer el impacto del conflicto armado en las universidades. En once minutos, Iván Darío repasó el caso de su hermano mellizo, el líder estudiantil José Gabriel Mejía Toro, desaparecido en febrero de 1986 en extrañas circunstancias que, hasta el día de hoy, permanecen en total penumbra. Once minutos que resumieron los 35 años que su familia y amigos llevan buscándolo. Es la forma en la que mantienen viva la memoria de José, sin perder la esperanza de encontrarlo. “Contar lo que le pasó es reivindicar su nombre, volverlo visible y regresarlo del olvido”, dice Iván Darío. Como bien lo expresa, ese viaje en el tren de la vida para encontrar pistas sobre lo que pasó con José Gabriel no ha sido nada fácil. Detrás de su desaparición se han tejido tres hipótesis a partir de las voces de sus compañeros de lucha social y política. Sin embargo, esos supuestos han sido, más bien, destellos fugaces de información que no terminan por concretar un trazo para escribir completa su historia. “Hay diferentes hipótesis, pero finalmente todo quedó en la ambigüedad, algo que yo llamo el espacio que hay entre la noche y la niebla, que es donde sumergen al desaparecido. Ahí está mi hermano”, me explica Iván Darío. El relato sobre José representa el peso de la incertidumbre, el desespero de creer tener en la punta de la lengua las respuestas sobre su caso, y darse cuenta de que aún no hay forma de pronunciar la verdad, el nombre del responsable ni la razón de este crimen. Es, también, la evidencia de la resistencia con la que se viste todos los días Iván Darío desde que su hermano no regresó a casa y las otras más de nueve millones de víctimas de la guerra, identificadas por el Estado. Con base en los registros entregados por el Centro Nacional de Memoria Histórica, la Unidad de Personas Dadas por Desaparecidas, creada tras la firma del Acuerdo de Paz, estima que más de 120.000 colombianos componen el universo de la desaparición forzada dada en el marco del conflicto armado. José Gabriel Mejía Toro, por los indicios que da su hermano, es uno de ellos. En 1977, José Gabriel e Iván Darío se graduaron del bachillerato juntos, en la Universidad Pontificia Bolivariana, en Medellín. Un año después, mientras Iván Darío prestaba servicio militar en el Batallón Miguel Antonio Caro, Escuela de Infantería de Usaquén, en Bogotá, José Gabriel se fue a trabajar con campesinos. “Él y yo habíamos alfabetizado en el barrio París, en Bello, Antioquia, con el sacerdote Carlos Alberto Calderón, nuestro profesor en la Bolivariana, quien influyó gratamente en nuestras almas jóvenes. Este ambiente llevó a mi hermano a la realización de trabajos comunitarios de la mano de un grupo juvenil católico llamado Almatá, lo que lo llevó a asumir nuevos compromisos sociales”, recuerda Iván Darío. Cautivado por la lucha social, ingresó a la Universidad de Antioquia en 1979. Desde allí, ahora como estudiante de Ciencias Económicas, José impulsó propuestas políticas para bajar la tensionante situación de violencia que arreciaba en Medellín en esa época y que, particularmente, golpeó al claustro, haciendo de este una víctima más del conflicto armado. La Comisión de la Verdad encontró que entre 1962 y 2011, exceptuando el año de 1968, cada mes asesinaron a un estudiante universitario en el país. Además del homicidio, también se efectuaron violencias como desaparición forzada, torturas, violencia sexual, exilio, desplazamiento forzado, detención arbitraria amenazas y respuesta militar a la protesta. De los cinco departamentos más afectados por los asesinatos, Antioquia, de donde es oriundo José Gabriel, ha sido el más afectado, con 150 casos; es decir, el 25,4 % del total del universo. El 24 de diciembre de 1985, José Gabriel e Iván Darío celebraban la Navidad con sus otros tres hermanos y su madre. Cinco meses antes habían cumplido 26 años y en esas fechas especiales todavía estaban juntos. El año del horror para su familia fue 1986. En ese entonces, José Gabriel desarrollaba actividades en el Movimiento Pan y Libertad, y era miembro de la dirección nacional del Movimiento Camilo Torres. Pertenecía, además, a los comités regionales de verificación y diálogo de Antioquia, para lograr la paz con el M-19. En los primeros días de febrero de ese año fue dado por desaparecido. ¿Qué pasó? Fabio Zapata, excompañero de José en el movimiento Camilo Torres y quien lleva años en el exilio, llamó ese febrero a la casa Mejía Toro para notificar a su familia que el mellizo no aparecía y no sabían de su paradero. Jorge Ignacio Sánchez, otro compañero de las lides políticas, dio cuenta del último contacto del que se supo de José Gabriel: “José llegó a Bogotá el 8 de febrero y me llamó a mi casa porque teníamos una cita el otro día para apoyar la candidatura de Héctor Abad Gómez a la Alcaldía de Medellín, pero dijo que se demoraba”, comentó a la revista digital Pacifista en 2015. En esa entrevista, Sánchez también recordó que José quería lanzarse como candidato al Concejo de Medellín. Sin saber de él, el 15 de febrero de 1986 ya lo estaban buscando. El viaje a Bogotá es una pieza crucial en el relato. Como cuenta Iván Darío 35 años después, José se dirigió a la capital para acompañar a Danely Salas, una mujer que conoció en la Universidad de Antioquia, con la que entabló una relación, cuentan su hermano y sus amigos. “Él decidió acompañarla en un viaje por cuyas razones sus amigos todavía no se explican. Ella había llegado poco tiempo antes a la Universidad de Antioquia y se había presentado ante unos pocos como integrante del frente Ricardo Franco, una disidencia de las Farc”, retoma Iván Darío. El frente Ricardo Franco marcó la historia del conflicto armado porque entre finales de 1985 y principios de 1986, en el corregimiento de Tacueyó, ubicado en el municipio de Toribío, Cauca, Fedor Rey (alias Javier Delgado) y Hernando Pizarro Leongómez, comandantes de esa disidencia, asesinaron a más de cien de sus compañeros. A partir de esa relación entre José y Danely Salas, y de su participación política en Pan y Libertad, y el Movimiento Camilo Torres, tres hipótesis han rondado la historia de José: en primer lugar, que fue desaparecido, junto a Salas, por esa disidencia, pues ella podría haber sido considerada una desertora y era buscada. En segundo lugar, que los habría desaparecido la otrora guerrilla de las Farc, para quien Salas era también desertora. Y en tercer lugar, que fueron miembros del F2, una unidad de la policía judicial que funcionó de 1949 a 1995, muy activa en los años 80. Además, los movimientos en los que se movía José también estaban atravesados en parte por la influencia guerrerista de los grupos armados que buscaban llegar al poder. Él, por su lado, creía que el camino era la política en paz. “Para la guerrilla, éramos unos mamertos, y para la derecha, guerrilleros. Era un grupo muy pequeño porque creíamos en que se podía hacer política sin matar a nadie. Hacíamos reinados en lugar de tirar piedra afuera, decíamos que era mejor movilizar a la gente que movilizar un ejército”, retomó José Ignacio Sánchez en Pacifista. Con su desaparición, a Iván Darío y su familia también llegaron rumores sobre el paradero de José. “El señor Fabio Zapata llamó alguna vez a mi madre y le dijo que a José lo habían tirado al río Cauca y lo habían torturado poquito, supuestamente como intentando consolarla. Eso fue una cosa que a mi madre la devastó por completo”, destaca todavía Iván Darío. Luego, el 18 de julio de 2015, Alonso Salazar, exalcalde de Medellín, escribió en su Facebook una pregunta: “Mis amigos... tengo pocos. A veces nos juntamos a hablar de dolores recordando la sonrisa y el abrazo de los muertos. Yo le pregunto a las Farc: ¿dónde está José?”, dijo, asegurando, además, que José era su amigo y que sus victimarios fueron los guerrilleros. A las varias aseveraciones que hizo Alonso Salazar en esa publicación, respondió en septiembre de ese año Jorge Mejía Toro, hermano de José Gabriel e Iván Darío, y profesor de Filosofía de la Universidad de Antioquia, quien expresó que algunas de las cosas dichas por el exalcalde Jorge eran imprecisas: “Mi hermano José Gabriel Mejía Toro, a quien usted llama amigo, no era ‘menudo’ ni de ‘tez blanca’, como lo recuerda usted, sino de piel morena, buena estatura y complexión sólida y resistente. Hay que pensar que también la memoria desaparece, para entender que un amigo se equivoque sobre cosas tan evidentes como el aspecto del amigo o tan importantes como sus actividades”, dijo. “¿Cuál es realmente el propósito de preguntarles a las Farc, sobre el telón de fondo de los diálogos de paz, por la suerte de José? ¿Cuáles son ‘todos los indicios’ que permiten atribuir con certeza su desaparición a ese grupo y no a los otros dos posibles ejecutores? ¿Por qué insistir, de manera reiterativa, en que mi hermano quería ser concejal en nombre del movimiento de Héctor Abad Gómez, quien, según se afirma, aspiraba en ese entonces a la Alcaldía de Medellín? Es justo reivindicar la orientación democrática de aquellos luchadores, pero tanta insistencia suena rara en tiempos de campaña”, le cuestionó. Esas preguntas, que también las hizo Iván Darío ante la Comisión de la Verdad, no han sido resueltas por Salazar. A la desaparición física de José Gabriel Mejía Toro le siguió la desaparición de la memoria histórica. En diciembre de 1986, el periódico El Colombiano publicó la lista de las personas dadas por desaparecidas en Antioquia. En ella no apareció José. La ausencia de su nombre llamó de inmediato la atención de Iván Darío, pues ese año el caso de su hermano mellizo convocó innumerables manifestaciones, entre ellas la que acompañó el médico Héctor Abad Gómez. “Hicimos la Marcha del Silencio en el mismo año de su desaparición con el Comité de Derechos Humanos de Antioquia, en cabeza del doctor Héctor Abad Gómez, a quien asesinaron en agosto de 1987. Nosotros estuvimos de lleno en esos dos años haciendo la denuncia de la desaparición de mi hermano en diferentes escenarios, tanto en Medellín como en Bogotá. Hicimos marchas, denuncias en medios, manifestaciones artísticas, videos, adhesivos, vallas...”, expresó Iván Darío, pues él ha liderado la búsqueda de su hermano. En 2006, incluso, Abad Gómez y José Gabriel Mejía Toro fueron dos nombres que convocaron una nueva manifestación en las calles de Medellín. Sin embargo, el líder estudiantil no solo fue borrado de la lista del diario paisa, sino que su desaparición tampoco figura en la investigación “Cincuenta años de violencia y resistencia en la Universidad de Antioquia”, realizada por el proyecto Hacemos Memoria, que ya está al aire en la web. “Lo más absurdo es que a un desaparecido también lo desaparezcan de los registros. Es una condición de doble desaparición de una persona que ingresó a ese claustro en 1979. Tenía siete años en la misma universidad, era un líder estudiantil muy reconocido, pero de pronto por su postura de cómo debían lograrse las cosas no había sido reconocido”, me explica Iván Darío. Él ya hizo un primer acercamiento con el proyecto y existe una nota de prensa sobre el suceso; sin embargo, todavía falta que se inserte la desaparición de José en la línea del tiempo de la investigación. José lleva desaparecido 35 años. Y, como en otros casos, la estigmatización y la impunidad son dos factores que persisten en su historia, dos elementos que la Comisión de la Verdad identificó como transversales en las violencias que se ejercieron a las comunidades de las universidades, sobre todo las públicas. Según la entidad, el ataque de guerrillas, paramilitares y el propio Estado a los claustros se exacerbó a partir de los estados de sitio formalmente declarados en los 70 y 80, y que generaron facultades extras a los uniformados representadas en, por ejemplo, la Ley de Fuga, que era que si un estudiante era capturado e intentaba escapar, las autoridades tenían autorización de disparar a matar. “Ese tipo de cosas estaban validadas y hacían difícil la documentación de los casos, eran violaciones claras al debido proceso”, explica Gabriela Recalde Castañeda, asesora de la Comisión de la Verdad. “Las ideas de progreso, resistencia, cambio social, un debate profundo sobre un Estado que garantice los derechos fundamentales, siempre ha sido visto como algo relacionado con la insurgencia. Eso arranca en los años 80, se va transformando y emerge la idea de la contrainsurgencia, que es en lo que está basada la alianza entre fuerza pública y paramilitarismo. Eso se transforma en los 2000 y comienza una lucha al interior de las universidades: ya no se trata de saber si hay insurgencia o no, sino que todos los bandos buscan un enemigo interno. La mayoría de los casos, a pesar de ser de la década de los 70, no tienen una sentencia que nos diga qué pasó. Ese factor de impunidad se mantiene”, agregó Recalde Castañeda. *** La búsqueda de Iván Darío no para. Después del encuentro de la Comisión de la Verdad, se intenta trasladar la desaparición de José a la Unidad de Personas Dadas por Desaparecidas, a ver si allá puede encontrar las respuestas tantos años anheladas. “Estamos buscando que el tren de la historia y de la vida nos lleve a la estación de la verdad. Confiamos en rescatarlo de ese territorio oscuro y siniestro que es el espacio entre la noche y la niebla. Necesitamos cerrar el círculo todavía abierto de la incertidumbre para elaborar el duelo, para que finalmente este pasajero que está en la estación de la espera pueda abordar al tren que lo lleve a la estación de la verdad”, insiste. -¿Qué representa contar su historia ante la Comisión de la Verdad? -“Estos espacios son muy necesarios y vitales y hay que utilizarlos, sobre todo ahorita en esta coyuntura, luego de que se dieron los diálogos de paz, que permiten que se creen estos escenarios que antes no existían. Es necesario hacer esta catarsis para uno poder elaborar el duelo. El mayor problema cuando está el desaparecido es que, mientras no aparezca, la familia no puede elaborar el duelo. Uno no obtiene un cadáver, ni nada con qué hacerlo. Esa es también la tragedia del desaparecido”. -¿Siente que ya hizo el duelo por la desaparición de José? -“Yo siento que sí lo estoy haciendo. Estoy haciendo catarsis a través de la palabra”.'},\n",
       " {'title': '“Sería injusto que se me tilde por el pasado del partido”: Caterine Ibargüen',\n",
       "  'relative_path': '/politica/seria-injusto-que-se-me-tilde-por-el-pasado-del-partido-caterine-ibarguen/',\n",
       "  'datetime': '20 Oct 2021  - 7:12 p.\\xa0m.',\n",
       "  'author': 'Juan Sebastián Lombo',\n",
       "  'summary': 'La deportista y ahora candidata habló de su aspiración, las razones de ir por la U, sus propuestas y hasta de temas controversiales como el aborto o el consumo de marihuana.',\n",
       "  'full_text': 'Como si se estuviera preparando para ejecutar un salto triple, el narrador Javier Hernández hizo la introducción de Caterine Ibargüen. “En aras de la renovación, queremos presentar a esta ídola colombiana”, fueron las palabras del que es conocido como “el cantante del gol” antes de que la deportista diera el salto. Pero esta vez no fue a un foso de arena sino a una tarima. Y, en esta ocasión, no se trataba de una prueba en los Olímpicos o en la Liga Diamante de Atletismo. El salto de Ibargüen fue para hacer oficial su candidatura al Senado por el Partido de la U, que este miércoles hizo su relanzamiento de imagen. >Lea más sobre las elecciones de 2022 y otras noticias de la política nacional “Doy este gran salto por todos los colombianos que quieren hacer realidad sus sueños. Tengo la certeza de que vamos a trabajar por el deporte en Colombia. El deporte como factor de cambio”, fue el corto discurso con el que la deportista dio a conocer que sus lides ya no serían en las pistas sino en las urnas. El evento se acabó con una lluvia de confetis y con una larga fila de los miembros de la U que querían una foto con la deportista que le dio una medalla de oro y otra de plata al país y que ahora es la fórmula con la que el partido dirigido por Dilian Francisca Toro busca recuperar los votos que se llevaron Roy Barreras, Armando Benedetti y otros que decidieron no seguir en la colectividad. Tras el evento, Ibargüen fue la tendencia principal en las redes sociales. La discusión iba por dos lados: las dudas ante la candidatura de una persona que nunca antes había tenido experiencia en política y la aspiración por un partido como la U, que ha sido cuestionado por las actuaciones de algunos de sus miembros. En entrevista, El Espectador habló con Ibargüen sobre las dudas que dejó su aspiración. También dio las razones por las que tomó la decisión de incursionar en la política y aseguró que todo este sueño vino después de Tokio 2020. Además, dio detalle de sus propuestas y su posición en algunos temas de debate. >LEA: La reestructuración que ilusiona al Partido de la U ¿Cómo se gestó la candidatura de Caterine Ibargüen? Toda mi vida he pensado en hacer las cosas bien, por lo que cuando estaba en Tokio pensaba solo en seguir representando a mi país en las pistas. Al terminar los Olímpicos sabía que debía tomar otra decisión y el camino era seguir luchando por el país. Me reúno con mi familia y las personas realmente importantes en esta toma de decisiones y me apoyaron y seguí el camino para tomar esta decisión. Gracias a Dios tenía como amiga a la doctora Dilian e hicimos unas reuniones donde decidí dar este salto. ¿Estaba planteada una posibilidad política desde antes de Tokio 2020? Sí, mucha gente me abordó y me decían que había grandes posibilidades para eso pero en ese tiempo no era opción de vida porque el alto rendimiento no se combina con nada. Estaba dedicada a representar a Colombia en los Juego Olímpicos y lo hice de la mejor forma y planifiqué lo que iba a ser mi vida después. Me tomé un tiempo para pensar qué quería hacer de mi vida y de verdad que mi gran ilusión fue seguir trabajando por Colombia y este es un puesto muy importante para hacerlo. ¿Esto quiere decir que solo fue iniciativa suya? Pues sí. Yo hice un estudio de cuál parte se estaba dando mejor el deporte y eso te lo da los resultados de juegos nacionales y fue el Valle. Y la doctora Clara Luz (Roldán), que era la que encabezaba Coldeportes, es la que impulsó eso. Entonces había tenido contacto con la doctora Dilian y sabía que estaba trabajando con el deporte y pues se está viviendo muchas dificultades allí, entonces fue que me incliné por ellos e hice contacto con el Partido de la U. ¿Se ve como María Isabel Urrutia, que ganó medalla y llegó al Congreso? No, yo me veo como Caterine Ibargüen. Yo creo que he hecho una historia totalmente diferente a la de otros deportistas. He abierto muchos caminos y he creado mi historia a puño y sudor. Entonces no minimizo lo de ella, la respeto porque fue una de mis inspiraciones por ser una de las primeras en conseguir medallas olímpicas. Respeto su camino, pero he hecho un camino totalmente diferente. He tenido una preparación diferente. Soy una profesional en la salud y tengo una maestría. Creo que somo personas que tienen ilusiones por trabajar por el deporte, pero somos totalmente diferente. ¿No le da miedo que le pase como otros deportistas y personas de la farándula que pensaron traducir popularidad con votos y se quemaron? No, ese no es mi temor. Todos los caminos que emprendo los hago con la ilusión de seguir siendo la campeona y la triunfadora que me ha caracterizado. Yo estoy proponiendo y estoy dando mi imagen, mi propuesta, mi historia de vida. Entonces que vengan las personas que se identifican y crean conmigo y los que no pues no. No creo que sería quemarse, es emprender un camino y todo lo que uno haga debe hacerlo con amor. Y si se dan las cosas, pues bien. Nunca caí en tristeza por perder una medalla, todas estas cosas me hicieron más fuerte y vamos a enfrentar la vida. ¿Hay alguna trayectoria política suya que no se conozca? No, Caterine Ibargüen siempre fue una deportista entregada totalmente al deporte. Estuve entregada a la misión de mejorar la imagen de Colombia a través del deporte. En cada pista busqué dar los mejor como deportista y nunca estuve vinculada en la política. Es mi primer paso, por eso digo que es un salto muy importante y el primero hacia la política. Tengan la certeza de que lo haré de la mejor forma. ¿Cuál será el plan legislativo suyo si llega a ser elegida? Hay unas propuestas que han sido mías, y si buscan videos de atrás lo verán, es que los jóvenes vean a través del deporte una posibilidad de salida. Creo que Colombia se olvida de trabajar en la base. Solo piensan en nosotros cuando podemos dar medallas. Por eso para mí es muy importante crear leyes para cobijar a estas personas que ven que a través del deporte pueden alcanzar sus sueños. Me interesa también el deporte en la educación, porque también los niños deben entender la importancia del deporte en la recreación. La recreación y la actividad física son tremendamente importantes y vitales. Para mí es un tema esencial trabajar en nuevas infraestructuras para el deporte, que tengan esa capacidad para que las personas puedan hacer deporte de alto nivel y me interesa mucho ir a enamorar al adulto mayor para que tenga una vida saludable a través de la actividad física. Hay muchas cosas y propuestas que estoy segura que a través del deporte se pueden hacer. ¿Va a tener propuestas más allá de lo deportivo? A veces minimizan el deporte, pero es que tiene una magnitud tan grande porque uno puede hablar de todo, como el deporte y la seguridad. Uno puede ver que un niño que no tiene oportunidades de tener un balón es más fácil que lo recluten los grupos armados. En cambios si se les da la opción de llegar a ese barrio y decirles que hay un equipo de fútbol o de voleibol que les dé una oportunidad, o incluso con la cultura, se lo estamos arrebatando al grupo armado. En vez de darles armas se les da un balón. Con el deporte también se trabaja la salud. Cuando se sufre de diabetes lo primero que dicen es que hagan actividad física y hay muchos que lo saben. Con el deporte podemos hacer leyes grandísimas. Es una herramienta tan grande el deporte que incluso podemos hablar de economía. Cuando hay un partido de fútbol, incluso las personas que salen a vender las botellitas de agua se están lucrando de este gran partido. Crear competencias de alto nivel es importante. Por ejemplo, crear pistas para que vengan atletas a nivel mundial para que vengan atletas a nivel mundial que normalmente solo se conocen en la pantalla. Eso es incentivar la economía. No es que solo me vean como la voz del deporte, es que el deporte impacta muchas cosas en la sociedad. ¿Qué le responden a los que ven con pesar que se haya lanzado por un partido con cuestionamientos, como lo es la U? El Partido de la U es un partido que ha trabajado mucho por el deporte. Además, es dirigido por una mujer que es algo que muy pocas veces vemos. Es la posibilidad de que las mujeres seamos fuertes en un campo tan masculino. El partido de la U es de centro, por lo que tenemos que trabajar desde allí para cambiar el país. Entonces son muchas cosas con las que me identifico. Pero, independientemente, Caterine, sin importar por el partido al que se hubiese inclinado, hace parte de Colombia y de un país que sueña con un futuro mejor. Entonces yo digo que no importa el partido por el que me hubiera ido, iba a ser criticada, porque Colombia está acostumbra a que la política se hace por herencia y no la hagan las personas que hemos sufrido, porque ninguno de mis triunfos fue fácil. Yo vengo del Urabá, una tierra totalmente diferente. Fui criada por mujeres con dificultades, pero a puño y sudo he sido lo que soy. Merezco tener una voz y a ayudar a que los personas puedan realizar sus sueños. Tener una voz que venga de una región y que no le debe nada a nadie es el cambio que necesita el país y es la oportunidad que nosotros tenemos. ¿No cree que esa mala imagen que puede tener la U la puede terminar afectando en su imagen? Yo creo que si se me compara con algo del pasado del partido, pues es injusto porque Caterine Ibargüen solo ha estado a partir de hoy y hacia adelante. Vengo con una trayectoria totalmente transparente en el deporte, sin dopaje y sin ninguna dificultad. Soy una persona con uno valores que nunca van a ensuciar con nada ni con nadie. Y menos ahora que seré la voz de muchas personas. Sería injusto que se me tilde por el pasado del partido o con un futuro en el que digan que yo haré parte de eso. ¿Qué le responde a los que ven con suspicacia su candidatura porque la ven como un intento por simplemente arrastrar votos? Les digo que está bien, igual como estrategia del partido me parece una parte importante. Y necesitamos trabajar para ser un partido más fuerte y si lo logramos vamos a tener más consistencia con mis ideales. Como cabeza voy a intentar hacer lo mejor posible. Sé que mucho vienen haciendo fila, pero todos juntos podemos hacer un trabajo conjunto por el partido. Es una buena bandera. ¿Cómo abrirse paso en un congreso que ha sido tan criticado por la corrupción y el clientelismo? Espero llegar de una forma fuerte y exponer lo que he sido durante toda mi vida. Yo vengo de una parte competitiva, pero aquí no vengo a competir sino a ganar por un país. Vamos a ganar todos, no me voy a sentir a discutir con nadie ni nada. Voy a llevar mis propuestas y si quieren al país me van a ayudar a hacerlas realidad. Mi puesto no es por ganar nada, desde niña he tenido que sufrirla y estoy dispuesta seguirlo haciendo. Quiero llegar con la misma sonrisa, motivación y la disciplina que me caracteriza como deportista. ¿No teme que su propuesta se vea cerrada al no participar en esas dinámicas? Eso va a ser muy difícil. Pero intentaré enamorarlos de mis propuestas para que se hagan realidad. Porque como digo, es en beneficio del país y todos los que estén sentados en el Congreso deben trabajar por eso. Por favor que nos den la oportunidad a la gente que queremos que el país mejore. No le tengo miedo. Me he enfrentado a estadios tan gigantes y con tantas personas que no siento ningún miedo. De la misma forma que me preparé para cada competencia me prepararé para cualquier debate. ¿Cómo ha sido la construcción de su campaña? Hasta ahora estamos empezando. Este miércoles fue el lanzamiento. Pero estoy tan segura. Ahora todo se está trabajando por redes y cuento con unas plataformas totalmente fuertes y ahí haré gran parte de la campaña. Cuento con el respaldo del partido y el amor de Colombia. Vamos a ir a cada región para exponer nuestros objetivos y darle a conocer por qué estoy en esto y por qué quiero. Soy una persona que me ha tocado tan duro que solo es cambiar de objetivo, pero con la misma disciplina. El congreso ha Sido temeroso o reacio o a legislar en temas como el aborto, la eutanasia y el consumo adulto del cannabis, ¿cuál es su posición en estos temas? Claramente mi postura es el deporte. Soy una enfermera profesional y voy a favor de la vida de forma contundente. En la cuestión del aborto, mi palabra es que es dependiendo cómo se da el embarazo. Una mujer que es violada creo que debe tener el derecho sobre su embarazo. Además, a las que quedan embarazadas por falta de educación sexual pues implementar la educación sexual porque hay muchísimos métodos de planificación. Así se escuche como controversial lo que digo es que depende de la forma en que se dé el embarazo. En la eutanasia, si una persona está en estado crítico y no tiene una vida feliz, si es imposible tener una vida digna, debemos tener empatía con esas personas para que decidan sobre su vida. Y con la marihuana sí debo decir que estoy completamente en contra de ella porque soy una persona que hace deporte y voy en contra del tabaco y todas esas sustancias que no nos llevan a ninguna parte. ¿Cuál es su propuesta en temas de mujeres, de comunidades afro y del Urabá antioqueño? Claro, del Urabá vengo y trabajaré fuerte por este. Me uniré a todas las campañas que trabajen por las etnias, no solo a los afro, también los indígenas y otras identidades. Necesitamos trabajar por las etnias y estaré a favor de lo que venga en beneficio de Colombia. Yo daré mi voto por esos proyectos. Yo soy afro, y orgullosamente negra, pero creo que Colombia entera es Caterine. Yo no puedo distinguir la familia negra de la blanca, porque todos vibraron conmigo y necesitamos ese voto de confianza. Sé que la parte negra es discriminada, pero hay que enseñar que tenemos posibilidades porque soy un ejemplo de que sí se puede.'},\n",
       " {'title': 'Senado aprobó proposición para restablecer relaciones con Venezuela ',\n",
       "  'relative_path': '/politica/senado-aprobo-proposicion-para-restablecer-relaciones-con-venezuela/',\n",
       "  'datetime': '20 Oct 2021  - 6:10 p.\\xa0m.',\n",
       "  'author': 'Redacción Política',\n",
       "  'summary': 'La iniciativa propone la creación de dos comisiones (una en el Senado y otra en la Asamblea de Venezuela), para acelerar el restablecimiento de las relaciones diplomáticas entre ambos países. La proposición, de dos senadores de Alianza Verde, fue aprobada por unanimidad.',\n",
       "  'full_text': 'Desde el Congreso se viene impulsando el restablecimiento de las relaciones entre Colombia y Venezuela. El martes, el Senado aprobó por unanimidad la proposición para crear una comisión bilateral que trabaje en la normalización de relaciones diplomáticas entre ambos países. La decisión fue comunicada a Venezuela mediante una misiva que envió el presidente del Senado, Juan Diego Gómez, al presidente del Parlamento de vecino país, Jorge Rodríguez, quien desde el Palacio Federal Legislativo leyó la carta en la que Gómez le explicó el objetivo de la proposición aprobada y que busca trabajar en la “normalización de relaciones diplomáticas, relaciones comerciales y la verificación de las buenas prácticas comerciales” entre ambas naciones. Lea más sobre debates en el Congreso y otras noticias de la política nacional “Esta proposición fue aprobada por unanimidad ayer en el Senado de Colombia. Es por esa razón que el senador Juan Diego Gómez me envía la carta, dando ejecución a lo aprobado por el Senado en la mañana de ayer”, expresó el presidente del Legislativo. Rodríguez respondió con el envío de otra carta, en la que indicó que el Parlamento venezolano se encuentra en “plena disposición” de comenzar el proceso propuesto y que para eso convocaron a una sesión ordinaria para este jueves a las 11:30 hora local para discutir la conformación de una comisión “de características similares a la que ya fue aprobada ayer por el Congreso de Colombia”. >LEA: La U oficializa la candidatura de Caterine Ibargüen para el Senado “Estamos listos para establecer cualquier tipo de coordinación necesaria con el presidente del Congreso y con la comisión designada a tal fin, a los efectos de cumplir con los tres elementos en esa proposición 34″, indicó Rodríguez. “Creo que son buenas noticias para los pueblos de Colombia y Venezuela, y deseamos los mejores augurios en el trabajo de estas comisiones”, sostuvo el diputado. Por su parte el senador Jorge Guevara (Alianza Verde), quien fue uno de los que presentó la proposición junto a su copartidario Yesid García, expresó que no vale la pena seguir en un conflicto con Venezuela y que el paso a seguir es “que el presidente nombre la comisión y luego establecer un contacto rápido con el Ministerio de Relaciones Exteriores y por supuesto con la Asamblea de Venezuela para iniciar nuestro trabajo”. >LEA: Oposición rechaza suspensión de ley de garantías durante elecciones de 2022 De acuerdo con Guevara, el objetivo de las dos comisiones es que promuevan el restablecimiento de las relaciones diplomáticas y comerciales, “de manera importante que hayan buenas prácticas comerciales entre las dos naciones”. Colombia y Venezuela comparten una frontera de 2.219 kilómetros, pero sus relaciones diplomáticas están rotas desde el 23 febrero de 2019 por orden del presidente Nicolás Maduro, tras un intento del líder opositor Juan Guaidó de atravesar la frontera desde la ciudad colombiana de Cúcuta al frente de una caravana de ayuda humanitaria. >LEA. Pandora Papers: oposición citó a altos funcionarios a debate de control político El presidente colombiano, Iván Duque, dijo el 5 de octubre que su Gobierno está dispuesto a reabrir los servicios consulares en Venezuela. “Estamos abiertos a que si hay las condiciones y si hay las garantías se pueda restablecer ese servicio consular, pero, obviamente, sobre la premisa de que existan todas las garantías en materia de seguridad”, aseguró. Colombia fue uno de los primeros países en reconocer, en enero de 2019, a Guaidó como el presidente interino de Venezuela, al desconocer a Maduro. Incluso, el pasado diciembre la Cancillería colombiana desconoció los resultados de las elecciones legislativas en Venezuela, en las que chavismo retomó la mayoría del Parlamento, y los consideró “fraudulentos” y promovidos por un “régimen ilegítimo”. No obstante, el gesto del Senado colombiano al venezolano pone de manifiesto un reconocimiento de facto a la Asamblea Nacional actual, de amplia mayoría chavista.'},\n",
       " {'title': '“Mi intención no fue agredir”: Cabal sobre su crítica al liderazgo de su bancada',\n",
       "  'relative_path': '/politica/mi-intencion-no-fue-agredir-cabal-sobre-su-critica-al-liderazgo-de-su-bancada/',\n",
       "  'datetime': '20 Oct 2021  - 3:18 p.\\xa0m.',\n",
       "  'author': 'Redacción Política',\n",
       "  'summary': 'La senadora lamentó el efecto de sus palabras y expresó que no quiere fragmentar, sino unir al Centro Democrático.',\n",
       "  'full_text': 'Después de las críticas que suscitó un polémico audio, la senadora María Fernanda Cabal emitió un video disculpándose con su partido, el Centro Democrático, por sus palabras. En la grabación filtrada a los medios, se escuchó la voz de la senadora cuestionando el peso de la bancada del uribismo, compuesta por 52 congresistas, de los cuales varios estaban aspirando a ser candidatos presidenciales y luego declinaron su intención para respaldar a Óscar Iván Zuluaga.  (Para contexto: Polémico audio acentúa diferencias entre Cabal y bancada uribista) En en audio, Cabal se refirió a una carta que firmaron los parlamentarios justamente para solicitarle a la colectividad que unja a Zuluaga como candidato único. “¿Quiénes firman?, la mitad del Senado y la mayoría de Cámara (…) Vaya y pregúntele al publico quién los conoce, porque tristemente esta bancada que puede ser la mejor, la gente no conoce a más de cuatro o cinco”, dijo la congresista del Valle del Cauca.  Sus palabras levantaron ampollas. Por ello, este miércoles salió en un video alojado en su cuenta de Twitter. En él, Cabal expresó que lamentaba las declaraciones anteriores. “Este es un mensaje al Centro Democrático y a su bancada. Entiendo el sentimiento de mis compañeros cuando manifesté que éramos una bancada de 52 y no se notaba. Lamento el efecto de mis palabras. Mi intención no fue agredir. A ellos los respeto y he tenido con la mayoría una excelente relación”, pronunció.  (Lea acá todas las noticias del mundo político colombiano) Explicó que su crítica hacía referencia a un episodio en el que no sintió que la bancada hubiera respaldado al expresidente Álvaro Uribe, líder natural del partido. “Quise expresar mis reparos, entre otras cosas, porque sentí una bancada ausente cuando al presidente Uribe le quitaron su libertad, y a él le debemos la curul”, agregó.  Luego de esa exposición, Cabal reiteró su mensaje de unión de cara a las elecciones de 2022, que están a la vuelta de la esquina y en las que el uribismo aún no ha definido quién será la cara que lleve las banderas de derecha para llegar a la Presidencia de la República.  “No quiero fragmentar y prefiero apelar a la unión. Los desafíos son grandes y los adversarios, peligrosos. Nuestra obligación es seguir luchando por el país y el Centro Democrático ha sido ejemplo de valor. Seamos más militantes, más unidos, más partido”, señaló, en tono de campaña. '}]"
      ]
     },
     "execution_count": 64,
     "metadata": {},
     "output_type": "execute_result"
    }
   ],
   "source": [
    "news"
   ]
  },
  {
   "cell_type": "code",
   "execution_count": 65,
   "metadata": {},
   "outputs": [
    {
     "data": {
      "text/plain": [
       "<pymongo.results.InsertManyResult at 0x28bce0d1f80>"
      ]
     },
     "execution_count": 65,
     "metadata": {},
     "output_type": "execute_result"
    }
   ],
   "source": [
    "# Storing extracted information for further analysis\n",
    "collection.insert_many(news)"
   ]
  }
 ],
 "metadata": {
  "interpreter": {
   "hash": "a6090c10249dce3eb8eaf528a23526f965e5162b4ac7cc89ad9e702c2b462fc1"
  },
  "kernelspec": {
   "display_name": "Python 3.9.6 64-bit",
   "name": "python3"
  },
  "language_info": {
   "codemirror_mode": {
    "name": "ipython",
    "version": 3
   },
   "file_extension": ".py",
   "mimetype": "text/x-python",
   "name": "python",
   "nbconvert_exporter": "python",
   "pygments_lexer": "ipython3",
   "version": "3.9.6"
  }
 },
 "nbformat": 4,
 "nbformat_minor": 4
}
